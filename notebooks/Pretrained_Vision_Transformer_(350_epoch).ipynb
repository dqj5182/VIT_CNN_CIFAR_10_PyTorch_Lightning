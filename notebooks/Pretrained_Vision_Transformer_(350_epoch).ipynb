{
  "nbformat": 4,
  "nbformat_minor": 0,
  "metadata": {
    "colab": {
      "name": "Pretrained Vision Transformer (350 epoch).ipynb",
      "provenance": []
    },
    "kernelspec": {
      "name": "python3",
      "display_name": "Python 3"
    },
    "language_info": {
      "name": "python"
    },
    "accelerator": "GPU",
    "widgets": {
      "application/vnd.jupyter.widget-state+json": {
        "c5e2ab64f0494b8896bdb975b993b5b8": {
          "model_module": "@jupyter-widgets/controls",
          "model_name": "HBoxModel",
          "model_module_version": "1.5.0",
          "state": {
            "_view_name": "HBoxView",
            "_dom_classes": [],
            "_model_name": "HBoxModel",
            "_view_module": "@jupyter-widgets/controls",
            "_model_module_version": "1.5.0",
            "_view_count": null,
            "_view_module_version": "1.5.0",
            "box_style": "",
            "layout": "IPY_MODEL_f00461538ab549cbb7ebe5a268147333",
            "_model_module": "@jupyter-widgets/controls",
            "children": [
              "IPY_MODEL_82afc8bf9ca84179a3da547eea0d9227",
              "IPY_MODEL_159864f4d5ca462f8a9d3a0a51decde9",
              "IPY_MODEL_fef29ff3557e41c8b12b264a98c7dc12"
            ]
          }
        },
        "f00461538ab549cbb7ebe5a268147333": {
          "model_module": "@jupyter-widgets/base",
          "model_name": "LayoutModel",
          "model_module_version": "1.2.0",
          "state": {
            "_view_name": "LayoutView",
            "grid_template_rows": null,
            "right": null,
            "justify_content": null,
            "_view_module": "@jupyter-widgets/base",
            "overflow": null,
            "_model_module_version": "1.2.0",
            "_view_count": null,
            "flex_flow": null,
            "width": null,
            "min_width": null,
            "border": null,
            "align_items": null,
            "bottom": null,
            "_model_module": "@jupyter-widgets/base",
            "top": null,
            "grid_column": null,
            "overflow_y": null,
            "overflow_x": null,
            "grid_auto_flow": null,
            "grid_area": null,
            "grid_template_columns": null,
            "flex": null,
            "_model_name": "LayoutModel",
            "justify_items": null,
            "grid_row": null,
            "max_height": null,
            "align_content": null,
            "visibility": null,
            "align_self": null,
            "height": null,
            "min_height": null,
            "padding": null,
            "grid_auto_rows": null,
            "grid_gap": null,
            "max_width": null,
            "order": null,
            "_view_module_version": "1.2.0",
            "grid_template_areas": null,
            "object_position": null,
            "object_fit": null,
            "grid_auto_columns": null,
            "margin": null,
            "display": null,
            "left": null
          }
        },
        "82afc8bf9ca84179a3da547eea0d9227": {
          "model_module": "@jupyter-widgets/controls",
          "model_name": "HTMLModel",
          "model_module_version": "1.5.0",
          "state": {
            "_view_name": "HTMLView",
            "style": "IPY_MODEL_7a134415459f4459b7653e67ec9155e0",
            "_dom_classes": [],
            "description": "",
            "_model_name": "HTMLModel",
            "placeholder": "​",
            "_view_module": "@jupyter-widgets/controls",
            "_model_module_version": "1.5.0",
            "value": "",
            "_view_count": null,
            "_view_module_version": "1.5.0",
            "description_tooltip": null,
            "_model_module": "@jupyter-widgets/controls",
            "layout": "IPY_MODEL_34d0ece86dcf4ada8c2e94bef75a46d8"
          }
        },
        "159864f4d5ca462f8a9d3a0a51decde9": {
          "model_module": "@jupyter-widgets/controls",
          "model_name": "FloatProgressModel",
          "model_module_version": "1.5.0",
          "state": {
            "_view_name": "ProgressView",
            "style": "IPY_MODEL_d5019a13f21142b4bddd6fba66636aca",
            "_dom_classes": [],
            "description": "",
            "_model_name": "FloatProgressModel",
            "bar_style": "success",
            "max": 170498071,
            "_view_module": "@jupyter-widgets/controls",
            "_model_module_version": "1.5.0",
            "value": 170498071,
            "_view_count": null,
            "_view_module_version": "1.5.0",
            "orientation": "horizontal",
            "min": 0,
            "description_tooltip": null,
            "_model_module": "@jupyter-widgets/controls",
            "layout": "IPY_MODEL_0484b76f0ef442218bf5f01085d51b2b"
          }
        },
        "fef29ff3557e41c8b12b264a98c7dc12": {
          "model_module": "@jupyter-widgets/controls",
          "model_name": "HTMLModel",
          "model_module_version": "1.5.0",
          "state": {
            "_view_name": "HTMLView",
            "style": "IPY_MODEL_6732c805e1c74236acebc72e7ffcffce",
            "_dom_classes": [],
            "description": "",
            "_model_name": "HTMLModel",
            "placeholder": "​",
            "_view_module": "@jupyter-widgets/controls",
            "_model_module_version": "1.5.0",
            "value": " 170499072/? [00:02&lt;00:00, 92168723.20it/s]",
            "_view_count": null,
            "_view_module_version": "1.5.0",
            "description_tooltip": null,
            "_model_module": "@jupyter-widgets/controls",
            "layout": "IPY_MODEL_ce0740268a4242d2a594c76fb11fd77f"
          }
        },
        "7a134415459f4459b7653e67ec9155e0": {
          "model_module": "@jupyter-widgets/controls",
          "model_name": "DescriptionStyleModel",
          "model_module_version": "1.5.0",
          "state": {
            "_view_name": "StyleView",
            "_model_name": "DescriptionStyleModel",
            "description_width": "",
            "_view_module": "@jupyter-widgets/base",
            "_model_module_version": "1.5.0",
            "_view_count": null,
            "_view_module_version": "1.2.0",
            "_model_module": "@jupyter-widgets/controls"
          }
        },
        "34d0ece86dcf4ada8c2e94bef75a46d8": {
          "model_module": "@jupyter-widgets/base",
          "model_name": "LayoutModel",
          "model_module_version": "1.2.0",
          "state": {
            "_view_name": "LayoutView",
            "grid_template_rows": null,
            "right": null,
            "justify_content": null,
            "_view_module": "@jupyter-widgets/base",
            "overflow": null,
            "_model_module_version": "1.2.0",
            "_view_count": null,
            "flex_flow": null,
            "width": null,
            "min_width": null,
            "border": null,
            "align_items": null,
            "bottom": null,
            "_model_module": "@jupyter-widgets/base",
            "top": null,
            "grid_column": null,
            "overflow_y": null,
            "overflow_x": null,
            "grid_auto_flow": null,
            "grid_area": null,
            "grid_template_columns": null,
            "flex": null,
            "_model_name": "LayoutModel",
            "justify_items": null,
            "grid_row": null,
            "max_height": null,
            "align_content": null,
            "visibility": null,
            "align_self": null,
            "height": null,
            "min_height": null,
            "padding": null,
            "grid_auto_rows": null,
            "grid_gap": null,
            "max_width": null,
            "order": null,
            "_view_module_version": "1.2.0",
            "grid_template_areas": null,
            "object_position": null,
            "object_fit": null,
            "grid_auto_columns": null,
            "margin": null,
            "display": null,
            "left": null
          }
        },
        "d5019a13f21142b4bddd6fba66636aca": {
          "model_module": "@jupyter-widgets/controls",
          "model_name": "ProgressStyleModel",
          "model_module_version": "1.5.0",
          "state": {
            "_view_name": "StyleView",
            "_model_name": "ProgressStyleModel",
            "description_width": "",
            "_view_module": "@jupyter-widgets/base",
            "_model_module_version": "1.5.0",
            "_view_count": null,
            "_view_module_version": "1.2.0",
            "bar_color": null,
            "_model_module": "@jupyter-widgets/controls"
          }
        },
        "0484b76f0ef442218bf5f01085d51b2b": {
          "model_module": "@jupyter-widgets/base",
          "model_name": "LayoutModel",
          "model_module_version": "1.2.0",
          "state": {
            "_view_name": "LayoutView",
            "grid_template_rows": null,
            "right": null,
            "justify_content": null,
            "_view_module": "@jupyter-widgets/base",
            "overflow": null,
            "_model_module_version": "1.2.0",
            "_view_count": null,
            "flex_flow": null,
            "width": null,
            "min_width": null,
            "border": null,
            "align_items": null,
            "bottom": null,
            "_model_module": "@jupyter-widgets/base",
            "top": null,
            "grid_column": null,
            "overflow_y": null,
            "overflow_x": null,
            "grid_auto_flow": null,
            "grid_area": null,
            "grid_template_columns": null,
            "flex": null,
            "_model_name": "LayoutModel",
            "justify_items": null,
            "grid_row": null,
            "max_height": null,
            "align_content": null,
            "visibility": null,
            "align_self": null,
            "height": null,
            "min_height": null,
            "padding": null,
            "grid_auto_rows": null,
            "grid_gap": null,
            "max_width": null,
            "order": null,
            "_view_module_version": "1.2.0",
            "grid_template_areas": null,
            "object_position": null,
            "object_fit": null,
            "grid_auto_columns": null,
            "margin": null,
            "display": null,
            "left": null
          }
        },
        "6732c805e1c74236acebc72e7ffcffce": {
          "model_module": "@jupyter-widgets/controls",
          "model_name": "DescriptionStyleModel",
          "model_module_version": "1.5.0",
          "state": {
            "_view_name": "StyleView",
            "_model_name": "DescriptionStyleModel",
            "description_width": "",
            "_view_module": "@jupyter-widgets/base",
            "_model_module_version": "1.5.0",
            "_view_count": null,
            "_view_module_version": "1.2.0",
            "_model_module": "@jupyter-widgets/controls"
          }
        },
        "ce0740268a4242d2a594c76fb11fd77f": {
          "model_module": "@jupyter-widgets/base",
          "model_name": "LayoutModel",
          "model_module_version": "1.2.0",
          "state": {
            "_view_name": "LayoutView",
            "grid_template_rows": null,
            "right": null,
            "justify_content": null,
            "_view_module": "@jupyter-widgets/base",
            "overflow": null,
            "_model_module_version": "1.2.0",
            "_view_count": null,
            "flex_flow": null,
            "width": null,
            "min_width": null,
            "border": null,
            "align_items": null,
            "bottom": null,
            "_model_module": "@jupyter-widgets/base",
            "top": null,
            "grid_column": null,
            "overflow_y": null,
            "overflow_x": null,
            "grid_auto_flow": null,
            "grid_area": null,
            "grid_template_columns": null,
            "flex": null,
            "_model_name": "LayoutModel",
            "justify_items": null,
            "grid_row": null,
            "max_height": null,
            "align_content": null,
            "visibility": null,
            "align_self": null,
            "height": null,
            "min_height": null,
            "padding": null,
            "grid_auto_rows": null,
            "grid_gap": null,
            "max_width": null,
            "order": null,
            "_view_module_version": "1.2.0",
            "grid_template_areas": null,
            "object_position": null,
            "object_fit": null,
            "grid_auto_columns": null,
            "margin": null,
            "display": null,
            "left": null
          }
        }
      }
    }
  },
  "cells": [
    {
      "cell_type": "code",
      "execution_count": 1,
      "metadata": {
        "colab": {
          "base_uri": "https://localhost:8080/"
        },
        "id": "FLPnweNg-Hyw",
        "outputId": "07ed0dc4-a961-429c-f905-63541346e09a"
      },
      "outputs": [
        {
          "output_type": "stream",
          "name": "stdout",
          "text": [
            "Mounted at /content/drive\n"
          ]
        }
      ],
      "source": [
        "# Connecting and Mounting to the Google Drive\n",
        "from google.colab import drive\n",
        "drive.mount('/content/drive')"
      ]
    },
    {
      "cell_type": "code",
      "source": [
        "PATH = '/content/drive/MyDrive/vit350_c10_aa_ls.pth'"
      ],
      "metadata": {
        "id": "oqq_WYKo-VgZ"
      },
      "execution_count": 2,
      "outputs": []
    },
    {
      "cell_type": "code",
      "source": [
        "import torch"
      ],
      "metadata": {
        "id": "MCP_xVjy30ut"
      },
      "execution_count": 3,
      "outputs": []
    },
    {
      "cell_type": "markdown",
      "source": [
        "# Vision Transformer"
      ],
      "metadata": {
        "id": "ZZIflLG8_nMX"
      }
    },
    {
      "cell_type": "code",
      "source": [
        "import torch\n",
        "import torch.nn as nn\n",
        "import torch.nn.functional as F\n",
        "import torchsummary\n",
        "\n",
        "\n",
        "class TransformerEncoder(nn.Module):\n",
        "    def __init__(self, feats:int, mlp_hidden:int, head:int=8, dropout:float=0.):\n",
        "        super(TransformerEncoder, self).__init__()\n",
        "        self.la1 = nn.LayerNorm(feats)\n",
        "        self.msa = MultiHeadSelfAttention(feats, head=head, dropout=dropout)\n",
        "        self.la2 = nn.LayerNorm(feats)\n",
        "        self.mlp = nn.Sequential(\n",
        "            nn.Linear(feats, mlp_hidden),\n",
        "            nn.GELU(),\n",
        "            nn.Dropout(dropout),\n",
        "            nn.Linear(mlp_hidden, feats),\n",
        "            nn.GELU(),\n",
        "            nn.Dropout(dropout),\n",
        "        )\n",
        "\n",
        "    def forward(self, x):\n",
        "        out = self.msa(self.la1(x)) + x\n",
        "        out = self.mlp(self.la2(out)) + out\n",
        "        return out\n",
        "\n",
        "\n",
        "class MultiHeadSelfAttention(nn.Module):\n",
        "    def __init__(self, feats:int, head:int=8, dropout:float=0.):\n",
        "        super(MultiHeadSelfAttention, self).__init__()\n",
        "        self.head = head\n",
        "        self.feats = feats\n",
        "        self.sqrt_d = self.feats**0.5\n",
        "\n",
        "        self.q = nn.Linear(feats, feats)\n",
        "        self.k = nn.Linear(feats, feats)\n",
        "        self.v = nn.Linear(feats, feats)\n",
        "\n",
        "        self.o = nn.Linear(feats, feats)\n",
        "        self.dropout = nn.Dropout(dropout)\n",
        "\n",
        "    def forward(self, x):\n",
        "        b, n, f = x.size()\n",
        "        q = self.q(x).view(b, n, self.head, self.feats//self.head).transpose(1,2)\n",
        "        k = self.k(x).view(b, n, self.head, self.feats//self.head).transpose(1,2)\n",
        "        v = self.v(x).view(b, n, self.head, self.feats//self.head).transpose(1,2)\n",
        "\n",
        "        score = F.softmax(torch.einsum(\"bhif, bhjf->bhij\", q, k)/self.sqrt_d, dim=-1) #(b,h,n,n)\n",
        "        attn = torch.einsum(\"bhij, bhjf->bihf\", score, v) #(b,n,h,f//h)\n",
        "        o = self.dropout(self.o(attn.flatten(2)))\n",
        "        return o\n",
        "\n",
        "class MultiHeadDepthwiseSelfAttention(nn.Module):\n",
        "    def __init__(self, feats:int, head:int=8, dropout:float=0):\n",
        "        super(MultiHeadDepthwiseSelfAttention, self).__init__()\n",
        "        ...\n",
        "\n",
        "    def forward(self, x):\n",
        "        \n",
        "        ..."
      ],
      "metadata": {
        "id": "5o4-UxnS-3oa"
      },
      "execution_count": 4,
      "outputs": []
    },
    {
      "cell_type": "code",
      "source": [
        "import torch\n",
        "import torch.nn as nn\n",
        "import torchsummary\n",
        "\n",
        "class ViT(nn.Module):\n",
        "    def __init__(self, in_c:int=3, num_classes:int=10, img_size:int=32, patch:int=8, dropout:float=0., num_layers:int=7, hidden:int=384, mlp_hidden:int=384*4, head:int=8, is_cls_token:bool=True):\n",
        "        super(ViT, self).__init__()\n",
        "        # hidden=384\n",
        "\n",
        "        self.patch = patch # number of patches in one row(or col)\n",
        "        self.is_cls_token = is_cls_token\n",
        "        self.patch_size = img_size//self.patch\n",
        "        f = (img_size//self.patch)**2*3 # 48 # patch vec length\n",
        "        num_tokens = (self.patch**2)+1 if self.is_cls_token else (self.patch**2)\n",
        "\n",
        "        self.emb = nn.Linear(f, hidden) # (b, n, f)\n",
        "        self.cls_token = nn.Parameter(torch.randn(1, 1, hidden)) if is_cls_token else None\n",
        "        self.pos_emb = nn.Parameter(torch.randn(1,num_tokens, hidden))\n",
        "        enc_list = [TransformerEncoder(hidden,mlp_hidden=mlp_hidden, dropout=dropout, head=head) for _ in range(num_layers)]\n",
        "        self.enc = nn.Sequential(*enc_list)\n",
        "        self.fc = nn.Sequential(\n",
        "            nn.LayerNorm(hidden),\n",
        "            nn.Linear(hidden, num_classes) # for cls_token\n",
        "        )\n",
        "\n",
        "    def forward(self, x):\n",
        "        out = self._to_words(x)\n",
        "        out = self.emb(out)\n",
        "        if self.is_cls_token:\n",
        "            out = torch.cat([self.cls_token.repeat(out.size(0),1,1), out],dim=1)\n",
        "        out = out + self.pos_emb\n",
        "        out = self.enc(out)\n",
        "        if self.is_cls_token:\n",
        "            out = out[:,0]\n",
        "        else:\n",
        "            out = out.mean(1)\n",
        "        out = self.fc(out)\n",
        "        return out\n",
        "\n",
        "    def _to_words(self, x):\n",
        "        \"\"\"\n",
        "        (b, c, h, w) -> (b, n, f)\n",
        "        \"\"\"\n",
        "        out = x.unfold(2, self.patch_size, self.patch_size).unfold(3, self.patch_size, self.patch_size).permute(0,2,3,4,5,1)\n",
        "        out = out.reshape(x.size(0), self.patch**2 ,-1)\n",
        "        return out"
      ],
      "metadata": {
        "id": "AYGIcSjM5hqy"
      },
      "execution_count": 5,
      "outputs": []
    },
    {
      "cell_type": "markdown",
      "source": [
        "# Load state dict using .pth file"
      ],
      "metadata": {
        "id": "tbTjUpV__r9G"
      }
    },
    {
      "cell_type": "code",
      "source": [
        "state_dict = torch.load(PATH)\n",
        "\n",
        "for key in list(state_dict.keys()):\n",
        "    state_dict[key.replace('model.', '')] = state_dict.pop(key)"
      ],
      "metadata": {
        "id": "Ka9HJhINGEMI"
      },
      "execution_count": 6,
      "outputs": []
    },
    {
      "cell_type": "code",
      "source": [
        "model = ViT(\n",
        "          3, \n",
        "          10, \n",
        "          32, \n",
        "          8, \n",
        "          0.0, \n",
        "          7,\n",
        "          384,\n",
        "          384,\n",
        "          12,\n",
        "          True\n",
        "          )\n",
        "model.load_state_dict(state_dict)\n",
        "model.eval()"
      ],
      "metadata": {
        "colab": {
          "base_uri": "https://localhost:8080/"
        },
        "id": "P3O5NQgv-b07",
        "outputId": "13e2224d-9c67-4647-87e1-d1a91ff5cb82"
      },
      "execution_count": 7,
      "outputs": [
        {
          "output_type": "execute_result",
          "data": {
            "text/plain": [
              "ViT(\n",
              "  (emb): Linear(in_features=48, out_features=384, bias=True)\n",
              "  (enc): Sequential(\n",
              "    (0): TransformerEncoder(\n",
              "      (la1): LayerNorm((384,), eps=1e-05, elementwise_affine=True)\n",
              "      (msa): MultiHeadSelfAttention(\n",
              "        (q): Linear(in_features=384, out_features=384, bias=True)\n",
              "        (k): Linear(in_features=384, out_features=384, bias=True)\n",
              "        (v): Linear(in_features=384, out_features=384, bias=True)\n",
              "        (o): Linear(in_features=384, out_features=384, bias=True)\n",
              "        (dropout): Dropout(p=0.0, inplace=False)\n",
              "      )\n",
              "      (la2): LayerNorm((384,), eps=1e-05, elementwise_affine=True)\n",
              "      (mlp): Sequential(\n",
              "        (0): Linear(in_features=384, out_features=384, bias=True)\n",
              "        (1): GELU()\n",
              "        (2): Dropout(p=0.0, inplace=False)\n",
              "        (3): Linear(in_features=384, out_features=384, bias=True)\n",
              "        (4): GELU()\n",
              "        (5): Dropout(p=0.0, inplace=False)\n",
              "      )\n",
              "    )\n",
              "    (1): TransformerEncoder(\n",
              "      (la1): LayerNorm((384,), eps=1e-05, elementwise_affine=True)\n",
              "      (msa): MultiHeadSelfAttention(\n",
              "        (q): Linear(in_features=384, out_features=384, bias=True)\n",
              "        (k): Linear(in_features=384, out_features=384, bias=True)\n",
              "        (v): Linear(in_features=384, out_features=384, bias=True)\n",
              "        (o): Linear(in_features=384, out_features=384, bias=True)\n",
              "        (dropout): Dropout(p=0.0, inplace=False)\n",
              "      )\n",
              "      (la2): LayerNorm((384,), eps=1e-05, elementwise_affine=True)\n",
              "      (mlp): Sequential(\n",
              "        (0): Linear(in_features=384, out_features=384, bias=True)\n",
              "        (1): GELU()\n",
              "        (2): Dropout(p=0.0, inplace=False)\n",
              "        (3): Linear(in_features=384, out_features=384, bias=True)\n",
              "        (4): GELU()\n",
              "        (5): Dropout(p=0.0, inplace=False)\n",
              "      )\n",
              "    )\n",
              "    (2): TransformerEncoder(\n",
              "      (la1): LayerNorm((384,), eps=1e-05, elementwise_affine=True)\n",
              "      (msa): MultiHeadSelfAttention(\n",
              "        (q): Linear(in_features=384, out_features=384, bias=True)\n",
              "        (k): Linear(in_features=384, out_features=384, bias=True)\n",
              "        (v): Linear(in_features=384, out_features=384, bias=True)\n",
              "        (o): Linear(in_features=384, out_features=384, bias=True)\n",
              "        (dropout): Dropout(p=0.0, inplace=False)\n",
              "      )\n",
              "      (la2): LayerNorm((384,), eps=1e-05, elementwise_affine=True)\n",
              "      (mlp): Sequential(\n",
              "        (0): Linear(in_features=384, out_features=384, bias=True)\n",
              "        (1): GELU()\n",
              "        (2): Dropout(p=0.0, inplace=False)\n",
              "        (3): Linear(in_features=384, out_features=384, bias=True)\n",
              "        (4): GELU()\n",
              "        (5): Dropout(p=0.0, inplace=False)\n",
              "      )\n",
              "    )\n",
              "    (3): TransformerEncoder(\n",
              "      (la1): LayerNorm((384,), eps=1e-05, elementwise_affine=True)\n",
              "      (msa): MultiHeadSelfAttention(\n",
              "        (q): Linear(in_features=384, out_features=384, bias=True)\n",
              "        (k): Linear(in_features=384, out_features=384, bias=True)\n",
              "        (v): Linear(in_features=384, out_features=384, bias=True)\n",
              "        (o): Linear(in_features=384, out_features=384, bias=True)\n",
              "        (dropout): Dropout(p=0.0, inplace=False)\n",
              "      )\n",
              "      (la2): LayerNorm((384,), eps=1e-05, elementwise_affine=True)\n",
              "      (mlp): Sequential(\n",
              "        (0): Linear(in_features=384, out_features=384, bias=True)\n",
              "        (1): GELU()\n",
              "        (2): Dropout(p=0.0, inplace=False)\n",
              "        (3): Linear(in_features=384, out_features=384, bias=True)\n",
              "        (4): GELU()\n",
              "        (5): Dropout(p=0.0, inplace=False)\n",
              "      )\n",
              "    )\n",
              "    (4): TransformerEncoder(\n",
              "      (la1): LayerNorm((384,), eps=1e-05, elementwise_affine=True)\n",
              "      (msa): MultiHeadSelfAttention(\n",
              "        (q): Linear(in_features=384, out_features=384, bias=True)\n",
              "        (k): Linear(in_features=384, out_features=384, bias=True)\n",
              "        (v): Linear(in_features=384, out_features=384, bias=True)\n",
              "        (o): Linear(in_features=384, out_features=384, bias=True)\n",
              "        (dropout): Dropout(p=0.0, inplace=False)\n",
              "      )\n",
              "      (la2): LayerNorm((384,), eps=1e-05, elementwise_affine=True)\n",
              "      (mlp): Sequential(\n",
              "        (0): Linear(in_features=384, out_features=384, bias=True)\n",
              "        (1): GELU()\n",
              "        (2): Dropout(p=0.0, inplace=False)\n",
              "        (3): Linear(in_features=384, out_features=384, bias=True)\n",
              "        (4): GELU()\n",
              "        (5): Dropout(p=0.0, inplace=False)\n",
              "      )\n",
              "    )\n",
              "    (5): TransformerEncoder(\n",
              "      (la1): LayerNorm((384,), eps=1e-05, elementwise_affine=True)\n",
              "      (msa): MultiHeadSelfAttention(\n",
              "        (q): Linear(in_features=384, out_features=384, bias=True)\n",
              "        (k): Linear(in_features=384, out_features=384, bias=True)\n",
              "        (v): Linear(in_features=384, out_features=384, bias=True)\n",
              "        (o): Linear(in_features=384, out_features=384, bias=True)\n",
              "        (dropout): Dropout(p=0.0, inplace=False)\n",
              "      )\n",
              "      (la2): LayerNorm((384,), eps=1e-05, elementwise_affine=True)\n",
              "      (mlp): Sequential(\n",
              "        (0): Linear(in_features=384, out_features=384, bias=True)\n",
              "        (1): GELU()\n",
              "        (2): Dropout(p=0.0, inplace=False)\n",
              "        (3): Linear(in_features=384, out_features=384, bias=True)\n",
              "        (4): GELU()\n",
              "        (5): Dropout(p=0.0, inplace=False)\n",
              "      )\n",
              "    )\n",
              "    (6): TransformerEncoder(\n",
              "      (la1): LayerNorm((384,), eps=1e-05, elementwise_affine=True)\n",
              "      (msa): MultiHeadSelfAttention(\n",
              "        (q): Linear(in_features=384, out_features=384, bias=True)\n",
              "        (k): Linear(in_features=384, out_features=384, bias=True)\n",
              "        (v): Linear(in_features=384, out_features=384, bias=True)\n",
              "        (o): Linear(in_features=384, out_features=384, bias=True)\n",
              "        (dropout): Dropout(p=0.0, inplace=False)\n",
              "      )\n",
              "      (la2): LayerNorm((384,), eps=1e-05, elementwise_affine=True)\n",
              "      (mlp): Sequential(\n",
              "        (0): Linear(in_features=384, out_features=384, bias=True)\n",
              "        (1): GELU()\n",
              "        (2): Dropout(p=0.0, inplace=False)\n",
              "        (3): Linear(in_features=384, out_features=384, bias=True)\n",
              "        (4): GELU()\n",
              "        (5): Dropout(p=0.0, inplace=False)\n",
              "      )\n",
              "    )\n",
              "  )\n",
              "  (fc): Sequential(\n",
              "    (0): LayerNorm((384,), eps=1e-05, elementwise_affine=True)\n",
              "    (1): Linear(in_features=384, out_features=10, bias=True)\n",
              "  )\n",
              ")"
            ]
          },
          "metadata": {},
          "execution_count": 7
        }
      ]
    },
    {
      "cell_type": "markdown",
      "source": [
        "# Get the Test Loader"
      ],
      "metadata": {
        "id": "mmg5maV5ABS-"
      }
    },
    {
      "cell_type": "code",
      "source": [
        "import torchvision\n",
        "from torchvision import transforms\n",
        "from torch.utils.data.dataloader import DataLoader\n",
        "\n",
        "transform = transforms.Compose([\n",
        "        transforms.ToTensor(),\n",
        "        transforms.Normalize((0.4914, 0.4822, 0.4465), (0.2023, 0.1994, 0.2010)),\n",
        "        ])\n",
        "\n",
        "batch_size = 128\n",
        "\n",
        "testset = torchvision.datasets.CIFAR10(root='./data', train=False,\n",
        "                                       download=True, transform=transform)\n",
        "testloader = torch.utils.data.DataLoader(testset, batch_size=batch_size,\n",
        "                                         shuffle=False, num_workers=0)"
      ],
      "metadata": {
        "colab": {
          "base_uri": "https://localhost:8080/",
          "height": 84,
          "referenced_widgets": [
            "c5e2ab64f0494b8896bdb975b993b5b8",
            "f00461538ab549cbb7ebe5a268147333",
            "82afc8bf9ca84179a3da547eea0d9227",
            "159864f4d5ca462f8a9d3a0a51decde9",
            "fef29ff3557e41c8b12b264a98c7dc12",
            "7a134415459f4459b7653e67ec9155e0",
            "34d0ece86dcf4ada8c2e94bef75a46d8",
            "d5019a13f21142b4bddd6fba66636aca",
            "0484b76f0ef442218bf5f01085d51b2b",
            "6732c805e1c74236acebc72e7ffcffce",
            "ce0740268a4242d2a594c76fb11fd77f"
          ]
        },
        "id": "9VwZV6fVAAoZ",
        "outputId": "c64af884-9c6e-417f-a23a-093e371bc274"
      },
      "execution_count": 8,
      "outputs": [
        {
          "output_type": "stream",
          "name": "stdout",
          "text": [
            "Downloading https://www.cs.toronto.edu/~kriz/cifar-10-python.tar.gz to ./data/cifar-10-python.tar.gz\n"
          ]
        },
        {
          "output_type": "display_data",
          "data": {
            "application/vnd.jupyter.widget-view+json": {
              "model_id": "c5e2ab64f0494b8896bdb975b993b5b8",
              "version_minor": 0,
              "version_major": 2
            },
            "text/plain": [
              "  0%|          | 0/170498071 [00:00<?, ?it/s]"
            ]
          },
          "metadata": {}
        },
        {
          "output_type": "stream",
          "name": "stdout",
          "text": [
            "Extracting ./data/cifar-10-python.tar.gz to ./data\n"
          ]
        }
      ]
    },
    {
      "cell_type": "code",
      "source": [
        "classes = ('plane', 'car', 'bird', 'cat',\n",
        "           'deer', 'dog', 'frog', 'horse', 'ship', 'truck')"
      ],
      "metadata": {
        "id": "2bWCGB6cBHcM"
      },
      "execution_count": 9,
      "outputs": []
    },
    {
      "cell_type": "markdown",
      "source": [
        "# Test the model"
      ],
      "metadata": {
        "id": "rJXXmBOz_1Z2"
      }
    },
    {
      "cell_type": "code",
      "source": [
        "def evaluate(model, val_loader):\n",
        "    outputs = [model.validation_step(batch) for batch in val_loader]\n",
        "    return model.validation_epoch_end(outputs)"
      ],
      "metadata": {
        "id": "qcJR-kr0_lu1"
      },
      "execution_count": 10,
      "outputs": []
    },
    {
      "cell_type": "code",
      "source": [
        "model.cuda()"
      ],
      "metadata": {
        "colab": {
          "base_uri": "https://localhost:8080/"
        },
        "id": "irHtOsKd_253",
        "outputId": "3bf97ccc-bd54-4bbc-87b3-7f1184cc68ad"
      },
      "execution_count": 11,
      "outputs": [
        {
          "output_type": "execute_result",
          "data": {
            "text/plain": [
              "ViT(\n",
              "  (emb): Linear(in_features=48, out_features=384, bias=True)\n",
              "  (enc): Sequential(\n",
              "    (0): TransformerEncoder(\n",
              "      (la1): LayerNorm((384,), eps=1e-05, elementwise_affine=True)\n",
              "      (msa): MultiHeadSelfAttention(\n",
              "        (q): Linear(in_features=384, out_features=384, bias=True)\n",
              "        (k): Linear(in_features=384, out_features=384, bias=True)\n",
              "        (v): Linear(in_features=384, out_features=384, bias=True)\n",
              "        (o): Linear(in_features=384, out_features=384, bias=True)\n",
              "        (dropout): Dropout(p=0.0, inplace=False)\n",
              "      )\n",
              "      (la2): LayerNorm((384,), eps=1e-05, elementwise_affine=True)\n",
              "      (mlp): Sequential(\n",
              "        (0): Linear(in_features=384, out_features=384, bias=True)\n",
              "        (1): GELU()\n",
              "        (2): Dropout(p=0.0, inplace=False)\n",
              "        (3): Linear(in_features=384, out_features=384, bias=True)\n",
              "        (4): GELU()\n",
              "        (5): Dropout(p=0.0, inplace=False)\n",
              "      )\n",
              "    )\n",
              "    (1): TransformerEncoder(\n",
              "      (la1): LayerNorm((384,), eps=1e-05, elementwise_affine=True)\n",
              "      (msa): MultiHeadSelfAttention(\n",
              "        (q): Linear(in_features=384, out_features=384, bias=True)\n",
              "        (k): Linear(in_features=384, out_features=384, bias=True)\n",
              "        (v): Linear(in_features=384, out_features=384, bias=True)\n",
              "        (o): Linear(in_features=384, out_features=384, bias=True)\n",
              "        (dropout): Dropout(p=0.0, inplace=False)\n",
              "      )\n",
              "      (la2): LayerNorm((384,), eps=1e-05, elementwise_affine=True)\n",
              "      (mlp): Sequential(\n",
              "        (0): Linear(in_features=384, out_features=384, bias=True)\n",
              "        (1): GELU()\n",
              "        (2): Dropout(p=0.0, inplace=False)\n",
              "        (3): Linear(in_features=384, out_features=384, bias=True)\n",
              "        (4): GELU()\n",
              "        (5): Dropout(p=0.0, inplace=False)\n",
              "      )\n",
              "    )\n",
              "    (2): TransformerEncoder(\n",
              "      (la1): LayerNorm((384,), eps=1e-05, elementwise_affine=True)\n",
              "      (msa): MultiHeadSelfAttention(\n",
              "        (q): Linear(in_features=384, out_features=384, bias=True)\n",
              "        (k): Linear(in_features=384, out_features=384, bias=True)\n",
              "        (v): Linear(in_features=384, out_features=384, bias=True)\n",
              "        (o): Linear(in_features=384, out_features=384, bias=True)\n",
              "        (dropout): Dropout(p=0.0, inplace=False)\n",
              "      )\n",
              "      (la2): LayerNorm((384,), eps=1e-05, elementwise_affine=True)\n",
              "      (mlp): Sequential(\n",
              "        (0): Linear(in_features=384, out_features=384, bias=True)\n",
              "        (1): GELU()\n",
              "        (2): Dropout(p=0.0, inplace=False)\n",
              "        (3): Linear(in_features=384, out_features=384, bias=True)\n",
              "        (4): GELU()\n",
              "        (5): Dropout(p=0.0, inplace=False)\n",
              "      )\n",
              "    )\n",
              "    (3): TransformerEncoder(\n",
              "      (la1): LayerNorm((384,), eps=1e-05, elementwise_affine=True)\n",
              "      (msa): MultiHeadSelfAttention(\n",
              "        (q): Linear(in_features=384, out_features=384, bias=True)\n",
              "        (k): Linear(in_features=384, out_features=384, bias=True)\n",
              "        (v): Linear(in_features=384, out_features=384, bias=True)\n",
              "        (o): Linear(in_features=384, out_features=384, bias=True)\n",
              "        (dropout): Dropout(p=0.0, inplace=False)\n",
              "      )\n",
              "      (la2): LayerNorm((384,), eps=1e-05, elementwise_affine=True)\n",
              "      (mlp): Sequential(\n",
              "        (0): Linear(in_features=384, out_features=384, bias=True)\n",
              "        (1): GELU()\n",
              "        (2): Dropout(p=0.0, inplace=False)\n",
              "        (3): Linear(in_features=384, out_features=384, bias=True)\n",
              "        (4): GELU()\n",
              "        (5): Dropout(p=0.0, inplace=False)\n",
              "      )\n",
              "    )\n",
              "    (4): TransformerEncoder(\n",
              "      (la1): LayerNorm((384,), eps=1e-05, elementwise_affine=True)\n",
              "      (msa): MultiHeadSelfAttention(\n",
              "        (q): Linear(in_features=384, out_features=384, bias=True)\n",
              "        (k): Linear(in_features=384, out_features=384, bias=True)\n",
              "        (v): Linear(in_features=384, out_features=384, bias=True)\n",
              "        (o): Linear(in_features=384, out_features=384, bias=True)\n",
              "        (dropout): Dropout(p=0.0, inplace=False)\n",
              "      )\n",
              "      (la2): LayerNorm((384,), eps=1e-05, elementwise_affine=True)\n",
              "      (mlp): Sequential(\n",
              "        (0): Linear(in_features=384, out_features=384, bias=True)\n",
              "        (1): GELU()\n",
              "        (2): Dropout(p=0.0, inplace=False)\n",
              "        (3): Linear(in_features=384, out_features=384, bias=True)\n",
              "        (4): GELU()\n",
              "        (5): Dropout(p=0.0, inplace=False)\n",
              "      )\n",
              "    )\n",
              "    (5): TransformerEncoder(\n",
              "      (la1): LayerNorm((384,), eps=1e-05, elementwise_affine=True)\n",
              "      (msa): MultiHeadSelfAttention(\n",
              "        (q): Linear(in_features=384, out_features=384, bias=True)\n",
              "        (k): Linear(in_features=384, out_features=384, bias=True)\n",
              "        (v): Linear(in_features=384, out_features=384, bias=True)\n",
              "        (o): Linear(in_features=384, out_features=384, bias=True)\n",
              "        (dropout): Dropout(p=0.0, inplace=False)\n",
              "      )\n",
              "      (la2): LayerNorm((384,), eps=1e-05, elementwise_affine=True)\n",
              "      (mlp): Sequential(\n",
              "        (0): Linear(in_features=384, out_features=384, bias=True)\n",
              "        (1): GELU()\n",
              "        (2): Dropout(p=0.0, inplace=False)\n",
              "        (3): Linear(in_features=384, out_features=384, bias=True)\n",
              "        (4): GELU()\n",
              "        (5): Dropout(p=0.0, inplace=False)\n",
              "      )\n",
              "    )\n",
              "    (6): TransformerEncoder(\n",
              "      (la1): LayerNorm((384,), eps=1e-05, elementwise_affine=True)\n",
              "      (msa): MultiHeadSelfAttention(\n",
              "        (q): Linear(in_features=384, out_features=384, bias=True)\n",
              "        (k): Linear(in_features=384, out_features=384, bias=True)\n",
              "        (v): Linear(in_features=384, out_features=384, bias=True)\n",
              "        (o): Linear(in_features=384, out_features=384, bias=True)\n",
              "        (dropout): Dropout(p=0.0, inplace=False)\n",
              "      )\n",
              "      (la2): LayerNorm((384,), eps=1e-05, elementwise_affine=True)\n",
              "      (mlp): Sequential(\n",
              "        (0): Linear(in_features=384, out_features=384, bias=True)\n",
              "        (1): GELU()\n",
              "        (2): Dropout(p=0.0, inplace=False)\n",
              "        (3): Linear(in_features=384, out_features=384, bias=True)\n",
              "        (4): GELU()\n",
              "        (5): Dropout(p=0.0, inplace=False)\n",
              "      )\n",
              "    )\n",
              "  )\n",
              "  (fc): Sequential(\n",
              "    (0): LayerNorm((384,), eps=1e-05, elementwise_affine=True)\n",
              "    (1): Linear(in_features=384, out_features=10, bias=True)\n",
              "  )\n",
              ")"
            ]
          },
          "metadata": {},
          "execution_count": 11
        }
      ]
    },
    {
      "cell_type": "code",
      "source": [
        "correct = 0\n",
        "total = 0\n",
        "# since we're not training, we don't need to calculate the gradients for our outputs\n",
        "with torch.no_grad():\n",
        "    for data in testloader:\n",
        "        images, labels = data\n",
        "        images = images.cuda()\n",
        "        labels = labels.cuda()\n",
        "        # calculate outputs by running images through the network\n",
        "        outputs = model(images)\n",
        "        # the class with the highest energy is what we choose as prediction\n",
        "        _, predicted = torch.max(outputs.data, 1)\n",
        "        total += labels.size(0)\n",
        "        correct += (predicted == labels).sum().item()\n",
        "\n",
        "print(f'Accuracy of the network on the 10000 test images: {round(100*correct/total, 2)} %')"
      ],
      "metadata": {
        "colab": {
          "base_uri": "https://localhost:8080/"
        },
        "id": "_r67NI3B_88v",
        "outputId": "4728a343-76c6-469f-a632-ee76621f15f5"
      },
      "execution_count": 12,
      "outputs": [
        {
          "output_type": "stream",
          "name": "stdout",
          "text": [
            "Accuracy of the network on the 10000 test images: 90.1 %\n"
          ]
        }
      ]
    },
    {
      "cell_type": "code",
      "source": [
        "# prepare to count predictions for each class\n",
        "correct_pred = {classname: 0 for classname in classes}\n",
        "total_pred = {classname: 0 for classname in classes}\n",
        "\n",
        "# again no gradients needed\n",
        "with torch.no_grad():\n",
        "    for data in testloader:\n",
        "        images, labels = data\n",
        "        images = images.cuda()\n",
        "        labels = labels.cuda()\n",
        "        outputs = model(images)\n",
        "        _, predictions = torch.max(outputs, 1)\n",
        "        # collect the correct predictions for each class\n",
        "        for label, prediction in zip(labels, predictions):\n",
        "            if label == prediction:\n",
        "                correct_pred[classes[label]] += 1\n",
        "            total_pred[classes[label]] += 1\n",
        "\n",
        "\n",
        "# print accuracy for each class\n",
        "for classname, correct_count in correct_pred.items():\n",
        "    accuracy = 100 * float(correct_count) / total_pred[classname]\n",
        "    print(f'Accuracy for class: {classname:5s} is {accuracy:.1f} %')"
      ],
      "metadata": {
        "colab": {
          "base_uri": "https://localhost:8080/"
        },
        "id": "JwBt_dvzA4Y9",
        "outputId": "198903c4-6045-4edf-a403-7ad1f281cb08"
      },
      "execution_count": 13,
      "outputs": [
        {
          "output_type": "stream",
          "name": "stdout",
          "text": [
            "Accuracy for class: plane is 91.6 %\n",
            "Accuracy for class: car   is 95.0 %\n",
            "Accuracy for class: bird  is 85.4 %\n",
            "Accuracy for class: cat   is 79.2 %\n",
            "Accuracy for class: deer  is 90.1 %\n",
            "Accuracy for class: dog   is 84.1 %\n",
            "Accuracy for class: frog  is 94.7 %\n",
            "Accuracy for class: horse is 92.3 %\n",
            "Accuracy for class: ship  is 94.6 %\n",
            "Accuracy for class: truck is 94.0 %\n"
          ]
        }
      ]
    }
  ]
}